{
  "nbformat": 4,
  "nbformat_minor": 0,
  "metadata": {
    "colab": {
      "provenance": [],
      "toc_visible": true
    },
    "kernelspec": {
      "name": "python3",
      "display_name": "Python 3"
    },
    "language_info": {
      "name": "python"
    }
  },
  "cells": [
    {
      "cell_type": "markdown",
      "source": [
        "# Clase 4: Introducción a clasificación\n",
        "\n",
        "Temas que veremos en esta notebook:\n",
        "\n",
        "- Introducción a Scikit-Learn\n",
        "- Clasificación binaria.\n",
        "- Regresión logística y función sigmoidea\n",
        "- Cross entropy\n",
        "- Support Vector Machines \n",
        "- K-Nearest Neighbours\n",
        "- Naive Bayes\n",
        "- Linear Discriminant Analysis\n",
        "- Clasificación multiclase"
      ],
      "metadata": {
        "id": "XDkDxBvoGK5v"
      }
    },
    {
      "cell_type": "code",
      "source": [
        "import numpy as np\n",
        "import pandas as pd\n",
        "import matplotlib.pyplot as plt\n",
        "import seaborn as sns"
      ],
      "metadata": {
        "id": "OuUIyN3vviOo"
      },
      "execution_count": null,
      "outputs": []
    },
    {
      "cell_type": "markdown",
      "source": [
        "*Fuentes:*\n",
        "\n",
        "* https://jakevdp.github.io/PythonDataScienceHandbook/05.02-introducing-scikit-learn.html\n",
        "* https://inria.github.io/scikit-learn-mooc/python_scripts/02_numerical_pipeline_introduction.html\n",
        "* https://github.com/ageron/handson-ml3/blob/main/03_classification.ipynb\n"
      ],
      "metadata": {
        "id": "sSWSlGsAdorK"
      }
    },
    {
      "cell_type": "markdown",
      "source": [
        "# Introducción a Scikit-Learn\n",
        "\n",
        "Scikit-learn es una librería de aprendizaje automático de código abierto para el lenguaje de programación Python. Proporciona herramientas simples y eficientes para el análisis de datos y la minería de datos, así como para la construcción de modelos de aprendizaje automático. Scikit-learn es una de las bibliotecas más populares para el aprendizaje automático en Python y se utiliza ampliamente en la industria y la academia. Admite librerías numéricas y científicas de Python como NumPy y SciPy, o Pandas.\n",
        "\n",
        "![fig_sckl](https://ulhpc-tutorials.readthedocs.io/en/latest/python/advanced/scikit-learn/images/scikit.png)\n",
        "*Image Source: ulhpc-tutorials.readthedocs.io*"
      ],
      "metadata": {
        "id": "7mpsfwpkaro2"
      }
    },
    {
      "cell_type": "markdown",
      "source": [
        "## Ajustar un modelo y hacer predicciones\n",
        "\n",
        "La librería esta compuesta por modulos que nos otorgan distintas herramientas desde `model_selection` que nos brinda herramientas necesarias para la manipular las particiones de los datos o `metrics` para las métricas. Por otro lado tendremos distintos módulos para cada modelo como por ejemplo `neighbors` donde encontraremos modelos que funcionan a partir de distancias como `KNN`\n",
        "\n",
        "Debemos primero importar el modelo e instanciarlo:\n",
        "\n",
        "```\n",
        "from sklearn.MODULO import MODELO\n",
        "\n",
        "% instanciamos el modelo definiendo sus hiperparametros\n",
        "modelo = MODELO()\n",
        "```\n",
        "\n",
        "El método `fit` se llama para entrenar el modelo a partir de los datos de entrada (features o características) y la etiqueta que queremos predecir o el objetivo (target).\n",
        "\n",
        "```\n",
        "modelo.fit(data, target)\n",
        "```\n",
        "\n",
        "El aprendizaje se puede representar de la siguiente manera:\n",
        "\n",
        "![imagen.png](https://inria.github.io/scikit-learn-mooc/_images/api_diagram-predictor.fit.svg)\n",
        "\n",
        "El método fit se compone de dos elementos: \n",
        "- un algoritmo de aprendizaje \n",
        "- algun estado del modelo (los parametros por ejemplo)\n",
        "\n",
        "El algoritmo de aprendizaje toma los datos de entrenamiento y el objetivo de entrenamiento como entrada y establece los estados del modelo. Estos estados del modelo se utilizarán más adelante para predecir (para clasificadores y regresores) o transformar datos (para transformadores).Tanto el algoritmo de aprendizaje como el tipo de estados del modelo son específicos para cada tipo de modelo y a veces podremos modificarlas.\n"
      ],
      "metadata": {
        "id": "i2JXa2yId3ht"
      }
    },
    {
      "cell_type": "markdown",
      "source": [
        "Usemos nuestro modelo para hacer algunas predicciones utilizando el mismo conjunto de datos y usando el método `predict`.\n",
        "```\n",
        "target_predicted = model.predict(data)\n",
        "```\n",
        "Podemos ilustrar el mecanismo de predicción de la siguiente manera:\n",
        "\n",
        "![](\n",
        "https://inria.github.io/scikit-learn-mooc/_images/api_diagram-predictor.predict.svg)\n",
        "\n",
        "Para predecir, un modelo utiliza una función de predicción que utilizará los datos de entrada junto con los estados del modelo. Al igual que con el algoritmo de aprendizaje y los estados del modelo, la función de predicción es específica para cada tipo de modelo."
      ],
      "metadata": {
        "id": "GOy5-g1ehZie"
      }
    },
    {
      "cell_type": "markdown",
      "source": [
        "# Clasificación Binaria"
      ],
      "metadata": {
        "id": "1oyEI0udaX6r"
      }
    },
    {
      "cell_type": "code",
      "source": [
        "from sklearn.model_selection import train_test_split, KFold, StratifiedKFold\n",
        "from sklearn.metrics import accuracy_score, precision_score, recall_score, log_loss, confusion_matrix"
      ],
      "metadata": {
        "id": "eo1RTeKYcrgz"
      },
      "execution_count": null,
      "outputs": []
    },
    {
      "cell_type": "markdown",
      "source": [
        "## Regresión logística\n",
        "\n",
        "La regresión logística es una técnica de aprendizaje supervisado utilizada para predecir la probabilidad de una variable categórica binaria en función de una o más variables predictoras. En scikit-learn, se puede utilizar la clase `LogisticRegression` para construir modelos de regresión logística.\n",
        "\n",
        "La RG puede verse como una regresión lineal compuesta con una función conocida como **función sigmoidea**. La función sigmoidea se utiliza para transformar la variable dependiente en un rango entre 0 y 1, se define como:\n",
        "\n",
        "$ \\sigma (z) = \\frac{1}{1+e^{-z}} $\n",
        "\n",
        "![](https://upload.wikimedia.org/wikipedia/commons/thumb/8/88/Logistic-curve.svg/600px-Logistic-curve.svg.png)\n",
        "\n",
        "donde $z$ es la entrada que en la regresion logística es en realidad una regresión lineal:\n",
        "\n",
        "$z = \\beta_0 + \\beta_1x_1 + \\beta_2x_2 + ... + \\beta_px_p$\n",
        "\n",
        "quedando el modelo $f$ para un dato $x$:\n",
        "\n",
        "\\begin{equation}\n",
        "f(x) = \\sigma(\\beta_0 + \\sum_{j=1}^p \\beta_j x_j) = \\frac{1}{1+e^{-(\\beta_0 + \\sum_{j=1}^p \\beta_j x_j)}}\n",
        "\\end{equation}\n",
        "\n",
        "En el caso de clasificación binaria se interpreta como la probabilidad de la etiqueta correspondiente a los features $x$ de pertenecer a la clase de interés o clase positiva (por ej: si un tipo de cancer es maligno) o de pertenecer a la clase negativa ($\\mathcal{C}_P$ o $\\mathcal{C}_N$). Volvemos a usar $y$ para la clase de $x$ y la predicción del modelo será $\\hat{y}$:\n",
        "\n",
        "$$\n",
        "\\hat{y} = \\max \\{ P(y\\in \\mathcal{C}_P|x), P(y\\in \\mathcal{C}_N|x) \\}\n",
        "$$\n",
        "\n",
        "Pero esto se puede reescribir como:\n",
        "\n",
        "$$\n",
        "\\hat{y} = \\max \\{ P(y\\in \\mathcal{C}_P|x),1 - P(y\\in \\mathcal{C}_P|x) \\}\n",
        "$$\n",
        "\n",
        "Nuestro modelo $f$ justamente predecirá esto:$f(x) = P(y\\in \\mathcal{C}_P|x)$, quedando\n",
        "\n",
        "$$\n",
        "\\hat{y}=  \\max \\{ f(x), 1 - f(x) \\}\n",
        "$$\n",
        "\n",
        "por lo tanto si la predicción es mayor a $0.5$ se predice clase positiva y sino clase negativa. "
      ],
      "metadata": {
        "id": "4tpbZRNJcsBV"
      }
    },
    {
      "cell_type": "code",
      "source": [
        "#@title Ejemplo\n",
        "# NOTA: Este codigo puede ser medio complejo, por lo cual no es necesario que entiendan todo lo que hace\n",
        "from sklearn.linear_model import LogisticRegression\n",
        "\n",
        "# Generamos los puntos al azar\n",
        "np.random.seed(42)\n",
        "low_x =-2\n",
        "high_x = 4\n",
        "print('Creando una distribución de datos...')\n",
        "\n",
        "#crea una distribución uniforme\n",
        "X = np.random.uniform(low=low_x, high=high_x, size=(100,1))\n",
        "#La función numpy.where acepta como argumentos de entrada una condición y dos estructuras tipo array, x e y, y devuelve valores de x o de y en función de que se cumpla o no la condición: Si se cumple, se devuelve el valor de x. Si no se cumple, el de y.\n",
        "a = np.random.binomial(1, 0.9, size=(100,1))\n",
        "b = np.random.binomial(1, 0.1, size=(100,1))\n",
        "y = np.where(X<0, a, b)\n",
        "\n",
        "# Instanciamos el modelo\n",
        "print('Ajustando una regresión logística...')\n",
        "lr = LogisticRegression()\n",
        "# La función numpy.ravel() devuelve un array 1D con todos los elementos del array de entrada y con el mismo tipo\n",
        "# Ajustamos una regresión logística a los datos\n",
        "lr.fit(X, y.ravel())\n",
        "\n",
        "# Creamos una cuadrícula de valores de x para hacer predicciones\n",
        "x_grid, y_grid = np.meshgrid(np.linspace(low_x, high_x, 100), np.linspace(-0.1, 1.1, 100))\n",
        "X_test = x_grid.ravel().reshape(-1,1)\n",
        "\n",
        "# Creamos el rango de valores de x para la recta de decisión (se podria extrar de x_grid)\n",
        "x_range = np.linspace(low_x, high_x, 100)\n",
        "\n",
        "# Hacemos predicciones en la cuadrícula de valores de x\n",
        "z_proba = lr.predict_proba(X_test)[:,1]\n",
        "z_predict = lr.predict(X_test)\n",
        "\n",
        "# Hacemos predicciones en la cuadrícula de valores de x\n",
        "y_proba = lr.predict_proba(x_range.reshape(-1,1))[:, 1]\n",
        "\n",
        "# Calculamos la predicción del modelo para cada punto en el rango de valores de x\n",
        "y_decision = lr.predict(x_range.reshape(-1, 1))\n",
        "\n",
        "print(\"La función para tomar la decisión es: f(x) = 1/(1 + e**-(\",float(lr.intercept_),float(lr.coef_),\"X))\")\n",
        "\n"
      ],
      "metadata": {
        "colab": {
          "base_uri": "https://localhost:8080/"
        },
        "id": "QCyLTV-D1AJn",
        "outputId": "047225f4-d824-4d9b-ea1c-22b95afbad7e",
        "cellView": "form"
      },
      "execution_count": null,
      "outputs": [
        {
          "output_type": "stream",
          "name": "stdout",
          "text": [
            "Creando una distribución de datos...\n",
            "Ajustando una regresión logística...\n",
            "La función para tomar la decisión es: f(x) = 1/(1 + e**-( 0.4644312254453492 -1.4494514947181574 X))\n"
          ]
        }
      ]
    },
    {
      "cell_type": "code",
      "source": [
        "#@title Gráfico\n",
        "# Creamos el gráfico\n",
        "fig, ax = plt.subplots(figsize=(8,6))\n",
        "plt.scatter(X, y, color=['red' if i==1 else 'blue' for i in y], alpha=0.5)\n",
        "plt.plot(x_range, y_proba, color='black', linewidth=2, label='f(x)')\n",
        "plt.axhline(y=0.5, color='green', linestyle='--', label='p=0.5')\n",
        "ax.contourf(x_grid, y_grid, z_predict.reshape(x_grid.shape), alpha=0.2, cmap='coolwarm')\n",
        "plt.plot(x_range, y_decision, color='green', linewidth=2, label='decisión')\n",
        "plt.xlabel('X')\n",
        "plt.ylabel('Clase')\n",
        "plt.title('Regresión Logística')\n",
        "plt.legend()\n",
        "plt.show()"
      ],
      "metadata": {
        "colab": {
          "base_uri": "https://localhost:8080/",
          "height": 565
        },
        "id": "acp5DVcSHOxz",
        "outputId": "68536fb9-6eba-480e-deeb-abe840ae4be6",
        "cellView": "form"
      },
      "execution_count": null,
      "outputs": [
        {
          "output_type": "display_data",
          "data": {
            "text/plain": [
              "<Figure size 800x600 with 1 Axes>"
            ],
            "image/png": "[encoded data removed]"
          },
          "metadata": {}
        }
      ]
    },
    {
      "cell_type": "markdown",
      "source": [
        "### Ejemplo: Dataset Breast Cancer Detection\n",
        "Veamos un ejemplo de cómo utilizar la [regresión logística en scikit-learn](https://scikit-learn.org/stable/modules/generated/sklearn.linear_model.LogisticRegression.html#sklearn.linear_model.LogisticRegression) para el dataset de [Detección de cancer de mama](https://www.kaggle.com/datasets/uciml/breast-cancer-wisconsin-data):\n",
        "\n",
        "\n",
        "Descripción del dataset:\n",
        "\n",
        "Se calculan diez características de valor real para cada núcleo celular:\n",
        "\n",
        "* radio\n",
        "* textura\n",
        "* perímetro\n",
        "* área\n",
        "* suavidad\n",
        "* compacidad\n",
        "* concavidad\n",
        "* puntos cóncavos\n",
        "* simetría\n",
        "* dimensión fractal\n",
        "\n",
        "Se calculan el promedio, el error estándar y el \"peor\" o el más grande (promedio de los tres valores más grandes) de estas características para cada imagen, lo que resulta en 30 características. "
      ],
      "metadata": {
        "id": "q5dThRbUmxuv"
      }
    },
    {
      "cell_type": "code",
      "source": [
        "from sklearn.datasets import load_breast_cancer\n",
        "from sklearn.linear_model import LogisticRegression\n",
        "\n",
        "# cargar el conjunto de datos\n",
        "data = load_breast_cancer()\n",
        "\n",
        "# dividir los datos en conjunto de entrenamiento y prueba\n",
        "X_train, X_test, y_train, y_test = train_test_split(data.data, data.target, test_size=0.2, random_state=42)"
      ],
      "metadata": {
        "id": "3KQ-JmpQacnJ"
      },
      "execution_count": null,
      "outputs": []
    },
    {
      "cell_type": "code",
      "source": [
        "X_train.shape"
      ],
      "metadata": {
        "colab": {
          "base_uri": "https://localhost:8080/"
        },
        "id": "KLhgsTde_4iF",
        "outputId": "fdceb40d-79f1-45ef-970e-532c88c67196"
      },
      "execution_count": null,
      "outputs": [
        {
          "output_type": "execute_result",
          "data": {
            "text/plain": [
              "(455, 30)"
            ]
          },
          "metadata": {},
          "execution_count": 43
        }
      ]
    },
    {
      "cell_type": "code",
      "source": [
        "# crear el modelo de regresión logística\n",
        "model = LogisticRegression(penalty=None, max_iter=10000)\n",
        "\n",
        "# entrenar el modelo con los datos de entrenamiento\n",
        "model.fit(X_train, y_train)\n",
        "\n",
        "# hacer predicciones con los datos de prueba\n",
        "y_pred = model.predict(X_test)\n",
        "\n",
        "# calcular la precisión de la clasificación\n",
        "accuracy = accuracy_score(y_test, y_pred)\n",
        "\n",
        "print(\"Accuracy de la clasificación: {:.2f}%\".format(accuracy * 100))"
      ],
      "metadata": {
        "colab": {
          "base_uri": "https://localhost:8080/"
        },
        "id": "crWg0AP7w7En",
        "outputId": "ef715400-0c45-46f9-8a6a-c7b3fa0a9e8e"
      },
      "execution_count": null,
      "outputs": [
        {
          "output_type": "stream",
          "name": "stdout",
          "text": [
            "Accuracy de la clasificación: 98.25%\n"
          ]
        }
      ]
    },
    {
      "cell_type": "code",
      "source": [
        "model.intercept_"
      ],
      "metadata": {
        "colab": {
          "base_uri": "https://localhost:8080/"
        },
        "id": "VoILLmr_MLpH",
        "outputId": "bd9a241f-f270-4046-85e6-c6f2aab2dc44"
      },
      "execution_count": null,
      "outputs": [
        {
          "output_type": "execute_result",
          "data": {
            "text/plain": [
              "array([27.97573518])"
            ]
          },
          "metadata": {},
          "execution_count": 45
        }
      ]
    },
    {
      "cell_type": "code",
      "source": [
        "model.coef_"
      ],
      "metadata": {
        "id": "Qi2ID8-H1P4l",
        "colab": {
          "base_uri": "https://localhost:8080/"
        },
        "outputId": "e72fb457-b3b3-4cee-d273-3e0d93f5a4a9"
      },
      "execution_count": null,
      "outputs": [
        {
          "output_type": "execute_result",
          "data": {
            "text/plain": [
              "array([[ 4.12576718e+00,  5.19945458e-04, -1.90420044e-01,\n",
              "        -2.35289946e-02, -1.64553872e+01,  1.05533885e+01,\n",
              "        -2.07292916e+01, -3.73792166e+01,  7.56733670e+00,\n",
              "         2.69484500e+00, -2.14961006e+00,  2.68913990e+00,\n",
              "         1.65925645e-02, -2.05173785e-01, -5.61942994e+00,\n",
              "         3.03361176e+01,  4.22154613e+01, -2.43145185e+00,\n",
              "         9.15834407e+00,  5.37520051e+00, -1.56691867e+00,\n",
              "        -5.87506099e-01,  1.05600494e-01, -5.70553582e-03,\n",
              "        -3.78229012e+01,  1.19456492e+01, -1.14751371e+01,\n",
              "        -4.72879791e+01, -1.85603081e+01,  6.25042472e+00]])"
            ]
          },
          "metadata": {},
          "execution_count": 46
        }
      ]
    },
    {
      "cell_type": "code",
      "source": [
        "model.coef_.shape"
      ],
      "metadata": {
        "colab": {
          "base_uri": "https://localhost:8080/"
        },
        "id": "JcWMAuj_MZgK",
        "outputId": "8a503548-380d-4fee-a2a1-a084657edac4"
      },
      "execution_count": null,
      "outputs": [
        {
          "output_type": "execute_result",
          "data": {
            "text/plain": [
              "(1, 30)"
            ]
          },
          "metadata": {},
          "execution_count": 47
        }
      ]
    },
    {
      "cell_type": "markdown",
      "source": [
        "Notar que ahora tenemos un coeficiente por cada atributo."
      ],
      "metadata": {
        "id": "v6gmOeA7MRja"
      }
    },
    {
      "cell_type": "markdown",
      "source": [
        "## Support Vector Machines (SVM)\n",
        "\n",
        "Los modelos de SVM (**Máquinas de Vectores de Soporte**) son un conjunto de algoritmos de aprendizaje supervisado utilizados para la clasificación y regresión. El modelo de SVM se basa en la idea de encontrar el hiperplano que mejor separa los datos de diferentes clases. Este hiperplano es definido por un conjunto de vectores de soporte, que son los puntos más cercanos a la frontera de decisión.\n",
        "\n",
        "![](https://upload.wikimedia.org/wikipedia/commons/thumb/7/72/SVM_margin.png/300px-SVM_margin.png)\n",
        "\n",
        "El modelo de SVM se puede representar matemáticamente de la siguiente manera:\n",
        "\n",
        "Para el caso de clasificación binaria, el objetivo es encontrar el hiperplano que mejor separa los datos de dos clases. Dado un conjunto de entrenamiento ${(\\mathbf{x}_1, y_1),...,(\\mathbf{x}_m, y_m)}$, donde $\\mathbf{x}_i \\in \\mathbb{R}^n$ es el vector de características del $i$-ésimo ejemplo y $y_i \\in {-1, 1}$ es su correspondiente etiqueta de clase, el hiperplano que mejor separa los datos se puede encontrar resolviendo el siguiente problema de optimización:\n",
        "\n",
        "$\\min_{\\mathbf{w}, b} \\frac{1}{2}||\\mathbf{w}||^2$\n",
        "\n",
        "sujeto a $y_i(\\mathbf{w} \\cdot \\mathbf{x}_i + b) \\geq 1$ para todo $i=1,...,m$\n",
        "\n",
        "La función objetivo es una medida de la complejidad del modelo, mientras que las restricciones aseguran que el hiperplano separa los datos de las dos clases de manera correcta. Podemos usar su implementación [SVC](https://scikit-learn.org/stable/modules/generated/sklearn.svm.SVC.html) de la librería scikit-learn para implementar SVM."
      ],
      "metadata": {
        "id": "da5G8IoNvHSd"
      }
    },
    {
      "cell_type": "code",
      "source": [
        "from sklearn.svm import SVC\n",
        "\n",
        "# crear el modelo SVM\n",
        "model = SVC(kernel='linear', C=1, random_state=42)\n",
        "\n",
        "# entrenar el modelo con los datos de entrenamiento\n",
        "model.fit(X_train, y_train)\n",
        "\n",
        "# hacer predicciones con los datos de prueba\n",
        "y_pred = model.predict(X_test)\n",
        "\n",
        "# calcular la precisión de la clasificación\n",
        "accuracy = accuracy_score(y_test, y_pred)\n",
        "\n",
        "print(\"Accuracy de la clasificación: {:.2f}%\".format(accuracy * 100))"
      ],
      "metadata": {
        "colab": {
          "base_uri": "https://localhost:8080/"
        },
        "id": "BQudmyY9vKyt",
        "outputId": "259a4465-9b26-47fd-9f0d-836216f44450"
      },
      "execution_count": null,
      "outputs": [
        {
          "output_type": "stream",
          "name": "stdout",
          "text": [
            "Accuracy de la clasificación: 95.61%\n"
          ]
        }
      ]
    },
    {
      "cell_type": "markdown",
      "source": [
        "## K-Vecinos más Cercanos (KNN)\n",
        "\n",
        "El modelo de **K-Nearest Neighbors (KNN)** es un algoritmo de aprendizaje supervisado utilizado para clasificación y regresión. La idea principal del KNN es encontrar las $k$ observaciones más cercanas a la observación de prueba en el espacio de características y utilizar su etiqueta para predecir la clase de la observación de prueba. La distancia entre las observaciones se calcula utilizando una métrica de distancia, como la distancia Euclidiana o la distancia Manhattan. \n",
        "\n",
        "---\n",
        "*Nota:*\n",
        "La ecuación para la distancia Euclidiana entre dos vectores de observaciones $x$ y $y$ es: $d(x, y) = \\sqrt{\\sum_{i=1}^{n} (x_i - y_i)^2}$, también conocida como norma o distancia $L^2$.\n",
        "\n",
        "---\n",
        "\n",
        "Para predecir la clase $\\hat{y}^*$ de una observación $x^*$, se utiliza el voto mayoritario de las $k$ observaciones más cercanas a la observación de prueba $x^*$ dentro del conjunto de entrenamiento. La ecuación para la clasificación de KNN es:\n",
        "\n",
        "$\\hat{y}^* = \\underset{c}{\\operatorname{argmax}}\\sum_{i=1}^{k}w_{i}\\cdot I(y_{i}=c)$\n",
        "\n",
        "donde $c$ es una de las posibles clases, $w_i$ es el peso asignado a la $i$-ésima observación cercana (tipicamente 1 o 1/distancia) e $I(y_i = c)$ es una función indicadora que toma el valor 1 si la etiqueta de la $i$-ésima observación cercana es igual a $c$ y 0 en caso contrario.\n",
        "\n",
        "Para implementar [KNN](https://scikit-learn.org/stable/modules/generated/sklearn.neighbors.KNeighborsClassifier.html#sklearn.neighbors.KNeighborsClassifier) en Python utilizando la librería scikit-learn, podemos utilizar la clase `KNeighborsClassifier`. "
      ],
      "metadata": {
        "id": "jEkzXjNmyBgo"
      }
    },
    {
      "cell_type": "code",
      "source": [
        "from sklearn.neighbors import KNeighborsClassifier\n",
        "\n",
        "# crear el modelo de KNN con k=5\n",
        "model = KNeighborsClassifier(n_neighbors=5)\n",
        "\n",
        "# entrenar el modelo con los datos de entrenamiento\n",
        "model.fit(X_train, y_train)\n",
        "\n",
        "# hacer predicciones con los datos de prueba\n",
        "y_pred = model.predict(X_test)\n",
        "\n",
        "# calcular la precisión de la clasificación\n",
        "accuracy = accuracy_score(y_test, y_pred)\n",
        "\n",
        "print(\"Accuracy de la clasificación: {:.2f}%\".format(accuracy * 100))"
      ],
      "metadata": {
        "colab": {
          "base_uri": "https://localhost:8080/"
        },
        "id": "1c05V2rsyBIq",
        "outputId": "c311e106-8eaf-4259-ab53-ece26d10a4f0"
      },
      "execution_count": null,
      "outputs": [
        {
          "output_type": "stream",
          "name": "stdout",
          "text": [
            "Accuracy de la clasificación: 95.61%\n"
          ]
        }
      ]
    },
    {
      "cell_type": "markdown",
      "source": [
        "¿Qué ocurre al cambiar la cantidad de vecinos?"
      ],
      "metadata": {
        "id": "gCTo-MnVp5zU"
      }
    },
    {
      "cell_type": "code",
      "source": [
        "x = range(2,30)\n",
        "y = []\n",
        "for i in x:\n",
        "  model = KNeighborsClassifier(n_neighbors=i)\n",
        "  model.fit(X_train, y_train)\n",
        "  y_pred = model.predict(X_test)\n",
        "  y.append(accuracy_score(y_test, y_pred))"
      ],
      "metadata": {
        "id": "gUrgTsbkHJXY"
      },
      "execution_count": null,
      "outputs": []
    },
    {
      "cell_type": "code",
      "source": [
        "fig, ax = plt.subplots(figsize=(8,6))\n",
        "plt.scatter(x, y, alpha=0.5)\n",
        "plt.xlabel('K vecinos')\n",
        "plt.ylabel('accuracy_score')"
      ],
      "metadata": {
        "colab": {
          "base_uri": "https://localhost:8080/",
          "height": 559
        },
        "id": "RbJ9bHFPlG94",
        "outputId": "00111d14-e993-414f-f505-5bdd62968f54"
      },
      "execution_count": null,
      "outputs": [
        {
          "output_type": "execute_result",
          "data": {
            "text/plain": [
              "Text(0, 0.5, 'accuracy_score')"
            ]
          },
          "metadata": {},
          "execution_count": 51
        },
        {
          "output_type": "display_data",
          "data": {
            "text/plain": [
              "<Figure size 800x600 with 1 Axes>"
            ],
            "image/png": "[encoded data removed]"
          },
          "metadata": {}
        }
      ]
    },
    {
      "cell_type": "markdown",
      "source": [
        "## Naive Bayes\n",
        "\n",
        "El modelo de **Naive Bayes** es un algoritmo de aprendizaje supervisado utilizado para la clasificación. Este modelo se basa en el teorema de Bayes, que establece la probabilidad condicional de un evento dado otro evento relacionado. \n",
        "\n",
        "---\n",
        "*Nota:*\n",
        "La fórmula del Teorema de Bayes es:\n",
        "\n",
        "$P(A|B) = \\frac{P(B|A)P(A)}{P(B)}$\n",
        "\n",
        "Donde $A$ y $B$ son dos eventos, $P(A|B)$ es la probabilidad posterior de $A$ dado $B$, $P(B|A)$ es la probabilidad de $B$ dado $A$, $P(A)$ es la probabilidad previa de $A$ y $P(B)$ es la probabilidad previa de $B$.\n",
        "\n",
        "---\n",
        "\n",
        "El modelo de Naive Bayes es rápido, simple y puede ser muy preciso en muchos casos, especialmente cuando el número de variables predictoras es grande. En el caso de la clasificación, el modelo de Naive Bayes utiliza la probabilidad condicional de una clase dada las características de una observación. \n",
        "\n",
        "![alt text](https://present5.com/presentation/24894f6ea1f629fbcc529b6179ea87f7/image-25.jpg)\n",
        "\n",
        "*El modelo de Naive Bayes asume que todas las características son independientes entre sí, lo que significa que la presencia o ausencia de una característica no está relacionada con la presencia o ausencia de otra característica*. Esta suposición simplifica el cálculo de la probabilidad condicional de una clase dada las características de una observación y permite que el modelo sea entrenado de manera eficiente.\n",
        "\n",
        "La ecuación para el modelo de Naive Bayes nos permite hacer lo siguiente:\n",
        "\n",
        "$P(y|x_1, x_2, ..., x_n) = \\frac{P(x_1, x_2, ..., x_n|y)P(y)}{P(x_1, x_2, ..., x_n)}$\n",
        "\n",
        "Donde $P(y|x_1, x_2, ..., x_n)$ es la probabilidad de que una observación pertenezca a la clase de $y$ dado las características $x_1, x_2, ..., x_n$ de la observación. $P(x_1, x_2, ..., x_n|y)$ es la probabilidad condicional de las características dadas la clase, $P(y)$ es la probabilidad previa de la clase, y $P(x_1, x_2, ..., x_n)$ es la probabilidad marginal de las características.\n",
        "\n",
        "Por ejemplo en nuestro dataset los valores de $x_i$ seran las columnas de nuestro dataset, es decir `X_train`\n",
        "\n"
      ],
      "metadata": {
        "id": "6MGDwe6XvLWH"
      }
    },
    {
      "cell_type": "code",
      "source": [
        "X_train"
      ],
      "metadata": {
        "colab": {
          "base_uri": "https://localhost:8080/"
        },
        "id": "pWR5mTwhZsIc",
        "outputId": "5a3458a1-18d3-4d86-f1b7-1e1fc60e0fba"
      },
      "execution_count": null,
      "outputs": [
        {
          "output_type": "execute_result",
          "data": {
            "text/plain": [
              "array([[9.029e+00, 1.733e+01, 5.879e+01, ..., 1.750e-01, 4.228e-01,\n",
              "        1.175e-01],\n",
              "       [2.109e+01, 2.657e+01, 1.427e+02, ..., 2.903e-01, 4.098e-01,\n",
              "        1.284e-01],\n",
              "       [9.173e+00, 1.386e+01, 5.920e+01, ..., 5.087e-02, 3.282e-01,\n",
              "        8.490e-02],\n",
              "       ...,\n",
              "       [1.429e+01, 1.682e+01, 9.030e+01, ..., 3.333e-02, 2.458e-01,\n",
              "        6.120e-02],\n",
              "       [1.398e+01, 1.962e+01, 9.112e+01, ..., 1.827e-01, 3.179e-01,\n",
              "        1.055e-01],\n",
              "       [1.218e+01, 2.052e+01, 7.722e+01, ..., 7.431e-02, 2.694e-01,\n",
              "        6.878e-02]])"
            ]
          },
          "metadata": {},
          "execution_count": 52
        }
      ]
    },
    {
      "cell_type": "markdown",
      "source": [
        "Naive Bayes lo que hace en el fondo es calcular una distribuciòn gaussiana para cada clase, asumiendo independencia probabilistica entre clases. La idea es que dado un dato, calculemos $p(x|c_k)$ para cada clase $c_k$. Ahora bien, si son distribuciones univariadas el cálculo es sencillo, pero que pasa si X tiene muchas dimensiones. En ese caso tendremos:\n",
        "\n",
        "$p(x_1,x_2,...,x_n|c_k)$, y deberemos estimar el vector de medias y la matriz de covarianza. Como, para simplificar el problema, asumimos que las variables x son independientes, nos queda:\n",
        "\n",
        "$p(x_1,x_2,...,x_n|c_k) = p(x_1|c_k)p(x_2|c_k)...p(x_n|c_k)$\n",
        "\n",
        "Es decir, podemos modelar cada atributo como una distribución normal univariada y luego multiplicar los likelihoods resultantes, lo cual hace mucho más sencillo el problema.\n",
        "\n",
        "Finalmente lo que hacemos para predecir dado un dato nuevo es calcular la probabilidad para cada clase y asignar la mas probable.\n",
        "\n",
        "Si quieren profundizar en este modelo les recomendamos esta referencia: https://www.cs.cornell.edu/courses/cs4780/2018fa/lectures/lecturenote05.html\n"
      ],
      "metadata": {
        "id": "ezBtbGzTaZW2"
      }
    },
    {
      "cell_type": "markdown",
      "source": [
        "En Python, podemos usar la clase [`GaussianNB`](https://scikit-learn.org/stable/modules/generated/sklearn.naive_bayes.GaussianNB.html) de scikit-learn para implementar el modelo de Naive Bayes para clasificación de datos numéricos. "
      ],
      "metadata": {
        "id": "f9ORtkzFZP5H"
      }
    },
    {
      "cell_type": "code",
      "source": [
        "from sklearn.naive_bayes import GaussianNB\n",
        "\n",
        "model = GaussianNB()\n",
        "\n",
        "# entrenar el modelo con los datos de entrenamiento\n",
        "model.fit(X_train, y_train)\n",
        "\n",
        "# hacer predicciones con los datos de prueba\n",
        "y_pred = model.predict(X_test)\n",
        "\n",
        "# calcular la precisión de la clasificación\n",
        "accuracy = accuracy_score(y_test, y_pred)\n",
        "\n",
        "print(\"Accuracy de la clasificación: {:.2f}%\".format(accuracy * 100))"
      ],
      "metadata": {
        "colab": {
          "base_uri": "https://localhost:8080/"
        },
        "id": "92jJxOPnyKHd",
        "outputId": "4216d10e-ad0e-4bdb-a1c8-27676feb3839"
      },
      "execution_count": null,
      "outputs": [
        {
          "output_type": "stream",
          "name": "stdout",
          "text": [
            "Accuracy de la clasificación: 97.37%\n"
          ]
        }
      ]
    },
    {
      "cell_type": "markdown",
      "source": [
        "# Métricas"
      ],
      "metadata": {
        "id": "XG_jp-Qy_WEn"
      }
    },
    {
      "cell_type": "markdown",
      "source": [
        "### Función de Pérdida y Cross-Entropy\n",
        "\n",
        "La **función de pérdida** es la función $J$ que depende de los parámetros de nuestro modelo ($\\theta$) y mide la distancia de las predicciones de nuestro modelo a los datos reales y que nos permite optimizar los parametros. En el caso de la regresión logística la función de pérdida que se utiliza es la función de **entropía cruzada (cross-entropy)**, que se define como:\n",
        "\n",
        "$ J(\\theta) = -\\frac{1}{N} \\sum_{i=1}^{N} y^{(i)} \\log(h_\\theta(x^{(i)})) + (1 - y^{(i)}) \\log(1 - h_\\theta(x^{(i)})) $\n",
        "\n",
        "donde $N$ es el número de ejemplos de entrenamiento, $y^{(i)}$ es la variable categórica binaria verdadera, $x^{(i)}$ es el vector de características del ejemplo $i$, y $h_\\theta(x^{(i)})$ es la predicción del modelo para la observación $i$.\n",
        "\n",
        "También se la conoce como `log_loss` como en [sklearn](https://scikit-learn.org/stable/modules/generated/sklearn.metrics.log_loss.html#sklearn.metrics.log_loss) y puede ser usada en el caso multiclase."
      ],
      "metadata": {
        "id": "JB1TsHbJsN0e"
      }
    },
    {
      "cell_type": "markdown",
      "source": [
        " Veamos la aplicación de esta métrica al caso que vimos más arriba Regresión Logística sobre el Dataset Breast Cancer Detection"
      ],
      "metadata": {
        "id": "dpxPWiI3xZ14"
      }
    },
    {
      "cell_type": "code",
      "source": [
        "from sklearn.datasets import load_iris\n",
        "from sklearn.model_selection import train_test_split\n",
        "from sklearn.linear_model import LogisticRegression\n",
        "from sklearn.metrics import log_loss\n",
        "\n",
        "# cargar el conjunto de datos\n",
        "data = load_breast_cancer()\n",
        "X = data.data\n",
        "y = data.target\n",
        "X_train, X_test, y_train, y_test = train_test_split(X, y, test_size=0.2, random_state=42)\n",
        "# crear el modelo de regresión logística\n",
        "model = LogisticRegression(penalty=None, max_iter=10000)\n",
        "\n",
        "# entrenar el modelo con los datos de entrenamiento\n",
        "model.fit(X_train, y_train)\n",
        "\n",
        "loss = log_loss(y_test, y_pred)\n",
        "print('Log loss:', loss)"
      ],
      "metadata": {
        "id": "7MLYGAqA_Vrc",
        "colab": {
          "base_uri": "https://localhost:8080/"
        },
        "outputId": "b9bd3ee2-8bd4-44df-9876-5667dc75bd34"
      },
      "execution_count": null,
      "outputs": [
        {
          "output_type": "stream",
          "name": "stdout",
          "text": [
            "Log loss: 0.9485171944504516\n"
          ]
        }
      ]
    },
    {
      "cell_type": "markdown",
      "source": [
        "## Matriz de confusión"
      ],
      "metadata": {
        "id": "0JaTEMiC_LmE"
      }
    },
    {
      "cell_type": "markdown",
      "source": [
        "Analogamente, se puede calcular la [matriz de confusión CM](https://scikit-learn.org/stable/modules/generated/sklearn.metrics.confusion_matrix.html), donde \n",
        "\n",
        "$$CM_{i,j} = \\text{# de observables en el grupo i que fueron detectados en el grupo j }$$"
      ],
      "metadata": {
        "id": "uVsOpuA00SS3"
      }
    },
    {
      "cell_type": "code",
      "source": [
        "#@title  Matriz de confusion en el caso binario\n",
        "labels = ['True Neg','False Pos','False Neg','True Pos']\n",
        "labels = np.asarray(labels).reshape(2,2)\n",
        "sns.heatmap(np.array([[1,0],[0,1]]), annot=labels, fmt='', cbar=False);"
      ],
      "metadata": {
        "colab": {
          "base_uri": "https://localhost:8080/",
          "height": 430
        },
        "cellView": "form",
        "id": "N-hNtU81UyJH",
        "outputId": "3017d1ee-625b-462c-8de0-80a9e8f953be"
      },
      "execution_count": null,
      "outputs": [
        {
          "output_type": "display_data",
          "data": {
            "text/plain": [
              "<Figure size 640x480 with 1 Axes>"
            ],
            "image/png": "[encoded data removed]"
          },
          "metadata": {}
        }
      ]
    },
    {
      "cell_type": "code",
      "source": [
        "from sklearn.metrics import confusion_matrix\n",
        "C = confusion_matrix(y_test, y_pred)\n",
        "print('Confusion matrix:')\n",
        "print(C)"
      ],
      "metadata": {
        "id": "mrcUTk4l_fXW",
        "colab": {
          "base_uri": "https://localhost:8080/"
        },
        "outputId": "f45cad3b-7543-4166-961f-d054d59cefc8"
      },
      "execution_count": null,
      "outputs": [
        {
          "output_type": "stream",
          "name": "stdout",
          "text": [
            "Confusion matrix:\n",
            "[[40  3]\n",
            " [ 0 71]]\n"
          ]
        }
      ]
    },
    {
      "cell_type": "code",
      "source": [
        "# Con seaborn podemos verla asi\n",
        "s= sns.heatmap(C, annot=True)\n",
        "s.set(xlabel='Predicted', ylabel='True class');"
      ],
      "metadata": {
        "colab": {
          "base_uri": "https://localhost:8080/",
          "height": 450
        },
        "id": "MY0q03OXS6mL",
        "outputId": "ee99cc28-05c0-4644-b545-1e0ea238ba57"
      },
      "execution_count": null,
      "outputs": [
        {
          "output_type": "display_data",
          "data": {
            "text/plain": [
              "<Figure size 640x480 with 2 Axes>"
            ],
            "image/png": "[encoded data removed]"
          },
          "metadata": {}
        }
      ]
    },
    {
      "cell_type": "markdown",
      "source": [
        "## F-Score\n"
      ],
      "metadata": {
        "id": "1lBeji8l_e0E"
      }
    },
    {
      "cell_type": "markdown",
      "source": [
        "### F1 (caso binario)\n",
        "Por otro lado, el [F-Score](https://scikit-learn.org/stable/modules/generated/sklearn.metrics.f1_score.html#sklearn.metrics.f1_score) en el caso binario se define como\n",
        "\n",
        "$$F1 = 2 * (precision * recall) / (precision + recall)\n",
        "$$\n",
        "\n",
        "Se calcula a partir de la precision y el recall del modelo, donde la precision es el número de resultados verdaderos positivos dividido por el número de todos los resultados positivos, incluyendo aquellos que no se identificaron correctamente, y el recall es el número de resultados verdaderos positivos dividido por el número de todas las muestras que deberían haberse identificado como positivas. \n",
        "\n",
        "El valor más alto posible de un puntaje F es 1, lo que indica un precision y recall perfectos, y el valor más bajo posible es 0, si el precision o el recall son cero.\n",
        "\n",
        "\n"
      ],
      "metadata": {
        "id": "iEuQCC1B6A7a"
      }
    },
    {
      "cell_type": "code",
      "source": [
        "# f1_score nos devuelve la metrica para cada posible elección de clase positiva\n",
        "from sklearn.metrics import f1_score\n",
        "f1_score(y_test, y_pred, average=None)"
      ],
      "metadata": {
        "colab": {
          "base_uri": "https://localhost:8080/"
        },
        "id": "ENDftrnM93hz",
        "outputId": "ee24184f-6e86-4e5a-c016-312c6571d397"
      },
      "execution_count": null,
      "outputs": [
        {
          "output_type": "execute_result",
          "data": {
            "text/plain": [
              "array([0.97674419, 0.98591549])"
            ]
          },
          "metadata": {},
          "execution_count": 49
        }
      ]
    },
    {
      "cell_type": "markdown",
      "source": [
        "### Caso multiclase\n",
        "\n",
        "En este caso tendremos tantos valores de precision y recall como clases tengamos, por lo tanto podremos calcular f1 de [distintas maneras](https://towardsdatascience.com/micro-macro-weighted-averages-of-f1-score-clearly-explained-b603420b292f). Pueden usar la funcion [Classification Report](https://scikit-learn.org/stable/modules/generated/sklearn.metrics.classification_report.html) para obtener un resumen de estas metricas vistas."
      ],
      "metadata": {
        "id": "h_eU9FTnK6_a"
      }
    },
    {
      "cell_type": "markdown",
      "source": [
        "# Clasificación Multiclase\n",
        "\n",
        "La clasificación puede separarse en:\n",
        "\n",
        "**Clasificación binaria**\n",
        "\n",
        "Cuando solo hay dos categorías para clasificar puntos de datos, se conoce como clasificación binaria. Por ejemplo, detectar si un paciente tiene tuberculosis (1) o no la tiene (0), o clasificar si una crítica de cine es positiva (1) o negativa (0).\n",
        "\n",
        "**Clasificación multiclase**\n",
        "\n",
        "Cuando el número de clases es mayor que dos, se conoce como clasificación multiclase. Por ejemplo, si tenemos que identificar el dígito en una imagen y clasificarlo en cualquier valor entre 0 y 9. En este caso, tenemos 10 clases. También podemos tener que calificar canciones entre 1 y 5 en base a su popularidad. En estos casos, cada punto de datos se asigna a una única etiqueta de clase.\n",
        "\n",
        "**Clasificación multi-etiqueta**\n",
        "\n",
        "Una sola entrada de datos puede tenes varias etiquetas asociadas. Por ejemplo, en la detección de objetos en imágenes, una imagen puede tener una casa y una planta. Esto se llama clasificación multi-etiqueta."
      ],
      "metadata": {
        "id": "W_zVXF8AacU8"
      }
    },
    {
      "cell_type": "markdown",
      "source": [
        "![image_82775238541642418833741.jpg](data:image/jpeg;base64,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)"
      ],
      "metadata": {
        "id": "WiFNEKl1KLkz"
      }
    },
    {
      "cell_type": "markdown",
      "source": [
        "Los algoritmos utilizados para la clasificación multiclase se pueden categorizar principalmente en las siguientes categorías:\n",
        "\n",
        "* Transformación binaria\n",
        "\n",
        "* Clasificador nativo de múltiples clases (Ej: Naive Bayes, KNN)\n",
        "\n",
        "* Clasificación jerárquica\n",
        "\n",
        "**Transformación binaria**\n",
        "\n",
        "Existen algoritmos diseñados solo para tareas de clasificación binaria como la regresión logística y las máquinas de vectores de soporte (SVM). En el caso de multiclase, la tarea se divide en múltiples problemas de clasificación binaria utilizando estrategias como uno contra todos (one-vs-rest) y uno contra uno (one-vs-one) para utilizarlos en la clasificación multiclase.\n"
      ],
      "metadata": {
        "id": "Lj-z42CDKuKx"
      }
    },
    {
      "cell_type": "markdown",
      "source": [
        "![image_504965436171642418833831.jpg](data:image/jpeg;base64,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)"
      ],
      "metadata": {
        "id": "c5trOMk3LkVJ"
      }
    },
    {
      "cell_type": "markdown",
      "source": [
        "**Uno contra el resto (One-vs-Rest)**\n",
        "\n",
        "Como su nombre indica, se entrena un clasificador binario para cada clase, donde la distribución de clases es la clase objetivo frente al resto de las clases.\n",
        "\n",
        "Por ejemplo, si se está trabajando en un problema para predecir si la fruta dada es una manzana, pera o banana, se entrenarán tres clasificadores binarios.\n",
        "\n",
        "* Clasificador A: [manzana] frente a [pera, banana]\n",
        "\n",
        "* Clasificador B: [pera] frente a [manzana, bana]\n",
        "\n",
        "* Clasificador C: [banana] frente a [manzana, pera]\n",
        "\n",
        "Se utiliza el voto para predecir la clase final, es decir, el clasificador binario que predice la clase objetivo con la mayor confianza se da como salida final y se utiliza comúnmente con la regresión logística.\n",
        "\n",
        "**Uno contra uno (One-vs-One)**\n",
        "\n",
        "En este enfoque, se entrena un clasificador binario para cada par de clases, es decir, una clase frente a cada otra clase. El número de clasificadores binarios que se deben entrenar se puede calcular con la ayuda de esta fórmula sencilla:\n",
        "\n",
        "(N * (N-1))/2 donde N = número total de clases\n",
        "\n",
        "Por ejemplo, tomando el modelo anterior, los clasificadores totales que se deben entrenar son tres, que son los siguientes:\n",
        "\n",
        "* Clasificador A: manzana frente a pera\n",
        "\n",
        "* Clasificador B: manzana frente a banana\n",
        "\n",
        "* Clasificador C: pera frente a banana\n",
        "\n",
        "Cada clasificador binario predice una clase, y la clase predicha por la mayoría de los clasificadores se da como predicción final de clase. Esta estrategia funciona mejor para SVM u otros algoritmos basados en núcleos."
      ],
      "metadata": {
        "id": "GJqs_XT4LmCM"
      }
    },
    {
      "cell_type": "markdown",
      "source": [
        "Probemos utilizar la regresión logística en una variable contra el resto. "
      ],
      "metadata": {
        "id": "pxjqlBi8CwRk"
      }
    },
    {
      "cell_type": "code",
      "source": [
        "# importando las bibliotecas necesarias\n",
        "import numpy as np\n",
        "from sklearn import datasets\n",
        "from sklearn.linear_model import LogisticRegression\n",
        "from sklearn.metrics import confusion_matrix\n",
        "from sklearn.model_selection import train_test_split\n",
        "  \n",
        "# cargando el conjunto de datos de iris\n",
        "iris = datasets.load_iris()\n",
        "  \n",
        "# X -> atributos, y -> etiquetas\n",
        "X = iris.data\n",
        "y = iris.target\n",
        "  \n",
        "# dividiendo X, y en datos de entrenamiento y prueba\n",
        "X_train, X_test, y_train, y_test = train_test_split(X, y, random_state = 42, train_size=0.8, test_size=0.2, stratify=y)\n",
        "\n",
        "# usar regresión logística para la clasificación\n",
        "classifier = LogisticRegression(multi_class = \"ovr\")\n",
        "\n",
        "# ajustar el modelo para los datos de entrenamiento\n",
        "classifier.fit(X_train, y_train)\n",
        "# predecir la variable y para los datos de testeo\n",
        "prediction_y = classifier.predict(X_test)\n",
        "\n",
        "# comprobar la precisión del modelo\n",
        "print(\"Accuracy:\", end=' ')\n",
        "print(np.sum(prediction_y == y_test) / float(len(y_test)))\n",
        "\n",
        "# creando una matriz de confusión\n",
        "cm = confusion_matrix(y_test, prediction_y)\n",
        "sns.heatmap(cm, annot=True);"
      ],
      "metadata": {
        "id": "a7a2Si1mAWaD",
        "colab": {
          "base_uri": "https://localhost:8080/",
          "height": 452
        },
        "outputId": "9b26bdb9-1749-4762-dac1-d13c348c3157"
      },
      "execution_count": null,
      "outputs": [
        {
          "output_type": "stream",
          "name": "stdout",
          "text": [
            "Accuracy: 0.9333333333333333\n"
          ]
        },
        {
          "output_type": "display_data",
          "data": {
            "text/plain": [
              "<Figure size 640x480 with 2 Axes>"
            ],
            "image/png": "[encoded data removed]"
          },
          "metadata": {}
        }
      ]
    },
    {
      "cell_type": "markdown",
      "source": [
        "## OneVsRest Classifier\n",
        "**OneVsRestClassifier** de Scikit-Learn es una estrategia de clasificación multiclase que se basa en entrenar varios clasificadores binarios para discriminar entre cada clase y el resto de las clases. Es decir, si tenemos un problema de clasificación multiclase con N clases, se entrenarán N clasificadores binarios. Durante la predicción, cada uno de los clasificadores binarios vota por la clase que está intentando discriminar y la clase que recibe la mayoría de votos es la que se predice como la clase final."
      ],
      "metadata": {
        "id": "mNVXuY-BE2sn"
      }
    },
    {
      "cell_type": "code",
      "source": [
        "from sklearn.multiclass import OneVsRestClassifier\n",
        "\n",
        "classifier = OneVsRestClassifier(LogisticRegression())\n",
        "classifier.fit(X_train, y_train)\n",
        "prediction_y = classifier.predict(X_test)\n",
        "\n",
        "# comprobar la precisión del modelo\n",
        "print(\"Accuracy:\", end=' ')\n",
        "print(np.sum(prediction_y == y_test) / float(len(y_test)))\n",
        "\n",
        "# creando una matriz de confusión\n",
        "cm = confusion_matrix(y_test, prediction_y)\n",
        "sns.heatmap(cm, annot=True);"
      ],
      "metadata": {
        "colab": {
          "base_uri": "https://localhost:8080/",
          "height": 452
        },
        "id": "TouNYYfbD1F0",
        "outputId": "ba65fd90-1811-4a30-9ad4-65f8ce65d382"
      },
      "execution_count": null,
      "outputs": [
        {
          "output_type": "stream",
          "name": "stdout",
          "text": [
            "Accuracy: 0.9333333333333333\n"
          ]
        },
        {
          "output_type": "display_data",
          "data": {
            "text/plain": [
              "<Figure size 640x480 with 2 Axes>"
            ],
            "image/png": "[encoded data removed]"
          },
          "metadata": {}
        }
      ]
    },
    {
      "cell_type": "markdown",
      "source": [
        "## OneVsOne Classifier \n",
        "**OneVsOneClassifier** de Scikit-Learn es una estrategia de clasificación multiclase que se basa en entrenar varios clasificadores binarios para discriminar entre todas las posibles combinaciones de dos clases. Es decir, si tenemos un problema de clasificación multiclase con N clases, se entrenarán $N(N-1)/2$ clasificadores binarios. Durante la predicción, cada uno de los clasificadores binarios vota por una de las dos clases que está intentando discriminar y la clase que recibe la mayoría de votos es la que se predice como la clase final."
      ],
      "metadata": {
        "id": "-VR8DGhrFB0P"
      }
    },
    {
      "cell_type": "code",
      "source": [
        "from sklearn.multiclass import OneVsOneClassifier\n",
        "\n",
        "classifier = OneVsOneClassifier(LogisticRegression())\n",
        "classifier.fit(X_train, y_train)\n",
        "prediction_y = classifier.predict(X_test)\n",
        "\n",
        "# comprobar la precisión del modelo\n",
        "print(\"Accuracy:\", end=' ')\n",
        "print(np.sum(prediction_y == y_test) / float(len(y_test)))\n",
        "\n",
        "# creando una matriz de confusión\n",
        "cm = confusion_matrix(y_test, prediction_y)\n",
        "sns.heatmap(cm, annot=True);"
      ],
      "metadata": {
        "colab": {
          "base_uri": "https://localhost:8080/",
          "height": 452
        },
        "id": "pG1Xm2tdELMK",
        "outputId": "2bd69ea8-f227-4d09-8a23-46bcdb321c45"
      },
      "execution_count": null,
      "outputs": [
        {
          "output_type": "stream",
          "name": "stdout",
          "text": [
            "Accuracy: 0.9666666666666667\n"
          ]
        },
        {
          "output_type": "display_data",
          "data": {
            "text/plain": [
              "<Figure size 640x480 with 2 Axes>"
            ],
            "image/png": "[encoded data removed]"
          },
          "metadata": {}
        }
      ]
    },
    {
      "cell_type": "markdown",
      "source": [
        "---\n",
        "# Balance de clases\n",
        "En este caso trabajamos con un conjunto de **datos balanceado**, es decir que cada clase aparece aproximadamente la misma cantidad de veces. Esto no sucede en la mayoria de casos reales y en esos casos es necesario hacer algo para balancear los datos y/o para corregir las metricas. Algunas metricas son mas sensibles que otras a este desbalance, por lo que la elecciòn de la misma es importante. Otros casos, los mismos modelos implementan metodos para corregir el modelo y el desbalance. Veremos en la proxima clase un poco mas sobre este tema."
      ],
      "metadata": {
        "id": "wDCm1XaSNDPW"
      }
    },
    {
      "cell_type": "code",
      "source": [
        "from sklearn.metrics import classification_report\n",
        "print(classification_report(y_test, prediction_y))"
      ],
      "metadata": {
        "colab": {
          "base_uri": "https://localhost:8080/"
        },
        "id": "j2yHXPCdM6Mn",
        "outputId": "45525f06-a123-4d5c-c201-49318eec0ed1"
      },
      "execution_count": null,
      "outputs": [
        {
          "output_type": "stream",
          "name": "stdout",
          "text": [
            "              precision    recall  f1-score   support\n",
            "\n",
            "           0       1.00      1.00      1.00        10\n",
            "           1       1.00      0.90      0.95        10\n",
            "           2       0.91      1.00      0.95        10\n",
            "\n",
            "    accuracy                           0.97        30\n",
            "   macro avg       0.97      0.97      0.97        30\n",
            "weighted avg       0.97      0.97      0.97        30\n",
            "\n"
          ]
        }
      ]
    },
    {
      "cell_type": "markdown",
      "source": [
        "---\n",
        "# Ejercicios\n",
        "\n",
        "Responda las siguientes preguntas para cada uno de los modelos vistos hoy utilizando el material visto en clase y recurriendo a la documentación de los modelos en scikit-learn:\n",
        "\n",
        "* ¿El modelo se puede utilizar para ambos problemas: clasificación binario y multiclase?\n",
        "* ¿El modelo implementa algún método o hiperparámetro para trabajar con el desbalance de clases?\n",
        "* ¿El modelo implementa algún método o hiperparámetro al cuál la documentación se refiera como \"*regularización*\"?\n",
        "\n",
        "\n"
      ],
      "metadata": {
        "id": "eJdlT6BByNgV"
      }
    },
    {
      "cell_type": "markdown",
      "source": [
        "### Ejercicio de programacion\n",
        "\n",
        "Entrenar un algoritmo de cada uno de los vistos en esta clase para trabajar alguno de los siguientes datasets (si tienen muuuuchas ganas hagan todos):\n",
        "\n",
        "- [Iris Dataset](https://scikit-learn.org/stable/datasets/toy_dataset.html#iris-dataset)\n",
        "\n",
        "- [Wine Dataset](https://scikit-learn.org/stable/modules/generated/sklearn.datasets.load_wine.html#sklearn.datasets.load_wine)\n",
        "\n",
        "1) Separar los datos aleatoriamente en 2 conjuntos: entrenamiento y evaluación utilizando las proporciones fernet-cola rebajado (80-20). Se puede utilizar la función [train_test_split](https://scikit-learn.org/stable/modules/generated/sklearn.model_selection.train_test_split.html?highlight=train_test_split#sklearn.model_selection.train_test_split) de scikit-learn. Investigar el efecto del parámetro stratify. ¿Que hace? ¿Es necesario en nuestros datos? Realice gráficos para justificar su respuesta.\n",
        "\n",
        "2) Elegir un hiperparámetros para cada modelo (salvo en Naive Bayes) y definir una grilla para ese hiperparametro. Elija el mejor valor de dicho hiperparametro utilizando Cross Validation en el conjunto de entrenamiento para F1-Macro. Una vez elegido ese mejor modelo, reentrene el modelo en todo el conjunto de entrenamiento. *Hint:* Puede ser de utilidad utilizar la funcion [GridSearchCV](https://scikit-learn.org/stable/modules/generated/sklearn.model_selection.GridSearchCV.html)\n",
        "\n",
        "3) Analizar el `accuracy_score` que se obtiene para los distintos modelos en el conjunto de test. Realizar un grafico en el cual se observen los valores de accuracy y F1 score macro para cada mejor modelo encontrado.\n",
        "\n",
        "(*=adicionales)\n",
        "\n",
        "4*) Investigar el clasificador [RadiusNeighborsClassifier](https://scikit-learn.org/stable/modules/generated/sklearn.neighbors.RadiusNeighborsClassifier.html?highlight=radius%20classifier#sklearn.neighbors.RadiusNeighborsClassifier). Ajuste un modelo de este estilo y comparelo con el resto.\n",
        "\n",
        "5*) Investigar el clasificador [Linear Discriminant Analysis](https://scikit-learn.org/0.16/modules/generated/sklearn.lda.LDA.html). Ajuste un modelo de este estilo y comparelo con el resto.\n",
        "\n",
        "6*) Investigar la métrica [$F$-beta](https://scikit-learn.org/stable/modules/generated/sklearn.metrics.fbeta_score.html). ¿Que efecto tiene el parámetro beta?"
      ],
      "metadata": {
        "id": "yFqjsCjaNWTS"
      }
    }
  ]
}